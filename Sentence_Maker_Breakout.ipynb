{
 "cells": [
  {
   "cell_type": "code",
   "execution_count": 9,
   "metadata": {
    "collapsed": false
   },
   "outputs": [
    {
     "name": "stdout",
     "output_type": "stream",
     "text": [
      "Writing sent_maker.py\n"
     ]
    }
   ],
   "source": [
    "%%file sent_maker.py\n",
    "\n",
    "sentence = \"\"\n",
    "\n",
    "while True:\n",
    "\n",
    "    # Get user input of new word or punctuation\n",
    "    word = input(\"Enter a word in the sentence (enter . ! ? to end) \")\n",
    "    sentence = sentence+\" \"+word\n",
    "    print(sentence)\n",
    "    \n",
    "    if word == '.':\n",
    "        break\n",
    "    elif word == '!':\n",
    "        break\n",
    "    elif word == '?':\n",
    "        break\n",
    "    else:\n",
    "        continue\n"
   ]
  },
  {
   "cell_type": "code",
   "execution_count": 1,
   "metadata": {
    "collapsed": false
   },
   "outputs": [
    {
     "name": "stdout",
     "output_type": "stream",
     "text": [
      "Enter a word in the sentence (enter . ! ? to end) out\n",
      " out\n",
      "Enter a word in the sentence (enter . ! ? to end) out\n",
      " out out\n",
      "Enter a word in the sentence (enter . ! ? to end) damn\n",
      " out out damn\n",
      "Enter a word in the sentence (enter . ! ? to end) spot\n",
      " out out damn spot\n",
      "Enter a word in the sentence (enter . ! ? to end) 1\n",
      " out out damn spot 1\n",
      "Enter a word in the sentence (enter . ! ? to end) !\n",
      " out out damn spot 1 !\n"
     ]
    }
   ],
   "source": [
    "% run sent_maker"
   ]
  },
  {
   "cell_type": "code",
   "execution_count": null,
   "metadata": {
    "collapsed": true
   },
   "outputs": [],
   "source": []
  }
 ],
 "metadata": {
  "kernelspec": {
   "display_name": "Python 3",
   "language": "python",
   "name": "python3"
  },
  "language_info": {
   "codemirror_mode": {
    "name": "ipython",
    "version": 3
   },
   "file_extension": ".py",
   "mimetype": "text/x-python",
   "name": "python",
   "nbconvert_exporter": "python",
   "pygments_lexer": "ipython3",
   "version": "3.4.3"
  }
 },
 "nbformat": 4,
 "nbformat_minor": 0
}
