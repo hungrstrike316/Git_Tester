{
 "cells": [
  {
   "cell_type": "code",
   "execution_count": 2,
   "metadata": {
    "collapsed": false
   },
   "outputs": [
    {
     "name": "stdout",
     "output_type": "stream",
     "text": [
      "[('Southwest', 145, 'DCA', 1, 6.0), ('United', 31, 'IAD', 1, 7.1), ('United', 302, 'LHR', 5, 6.5), ('Aeroflot', 34, 'SVO', 5, 9.0), ('Southwest', 146, 'CDA', 1, 9.6), ('United', 46, 'LAX', 5, 6.5), ('Southwest', 23, 'SBA', 6, 12.5), ('United', 2, 'LAX', 10, 12.5), ('Southwest', 59, 'LAX', 11, 14.5), ('American', 1, 'JFK', 12, 11.3), ('USAirways', 8, 'MIA', 20, 13.1), ('United', 2032, 'MIA', 21, 15.1), ('SpamAir', 1, 'AUM', 42, 14.4)]\n",
      "\n",
      "\n",
      "{'LHR': 'London-Heathrow', 'SBA': 'Santa Barbara', 'LAX': 'Los Angeles', 'MIA': 'Miami', 'SVO': 'Moscow', 'IAD': 'Dulles', 'JFK': 'New York City', 'CDA': 'Chicago-Midway', 'AUM': 'Austin, Minnesota', 'DCA': 'Washington, D.C.'}\n"
     ]
    }
   ],
   "source": [
    "# load .py file with airline data\n",
    "% run airline.py\n",
    "\n",
    "print(flights)\n",
    "print('\\n')\n",
    "print(airports)"
   ]
  },
  {
   "cell_type": "code",
   "execution_count": 3,
   "metadata": {
    "collapsed": false
   },
   "outputs": [
    {
     "name": "stdout",
     "output_type": "stream",
     "text": [
      "I never did finish this.  It is done in solutions.\n"
     ]
    }
   ],
   "source": [
    "print('I never did finish this.  It is done in solutions.')"
   ]
  },
  {
   "cell_type": "code",
   "execution_count": null,
   "metadata": {
    "collapsed": true
   },
   "outputs": [],
   "source": []
  }
 ],
 "metadata": {
  "kernelspec": {
   "display_name": "Python 3",
   "language": "python",
   "name": "python3"
  },
  "language_info": {
   "codemirror_mode": {
    "name": "ipython",
    "version": 3
   },
   "file_extension": ".py",
   "mimetype": "text/x-python",
   "name": "python",
   "nbconvert_exporter": "python",
   "pygments_lexer": "ipython3",
   "version": "3.4.3"
  }
 },
 "nbformat": 4,
 "nbformat_minor": 0
}
