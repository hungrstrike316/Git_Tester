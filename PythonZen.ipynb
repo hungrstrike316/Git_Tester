{
 "cells": [
  {
   "cell_type": "code",
   "execution_count": 27,
   "metadata": {
    "collapsed": false
   },
   "outputs": [
    {
     "name": "stdout",
     "output_type": "stream",
     "text": [
      "I never finished this, but it is in the solutions.\n"
     ]
    }
   ],
   "source": [
    "print('I never finished this, but it is in the solutions.')"
   ]
  },
  {
   "cell_type": "markdown",
   "metadata": {},
   "source": [
    "# IPython Intro Breakout Session\n",
    "\n",
    "Interactive exploration\n",
    "-----------------------\n",
    "\n",
    "I have shown you the Zen of Python. But if you search through all of the python\n",
    "source code, you will not find the word \"Zen\" anywhere.\n",
    "\n",
    "\n",
    "\n",
    "Use `<TAB>`, `?` and `??` on the  `this` module to decode this string:"
   ]
  },
  {
   "cell_type": "code",
   "execution_count": 26,
   "metadata": {
    "collapsed": false,
    "scrolled": true
   },
   "outputs": [
    {
     "name": "stdout",
     "output_type": "stream",
     "text": [
      "97\n",
      "{'d': 'q', 'g': 't', 'S': 'F', 'T': 'G', 'b': 'o', 'O': 'B', 'P': 'C', 'L': 'Y', 'N': 'A', 'r': 'e', 'k': 'x', 'w': 'j', 'I': 'V', 'z': 'm', 'e': 'r', 'F': 'S', 'A': 'N', 'i': 'v', 'M': 'Z', 'p': 'c', 'G': 'T', 'V': 'I', 'D': 'Q', 'q': 'd', 'W': 'J', 'E': 'R', 'a': 'n', 'u': 'h', 'm': 'z', 'C': 'P', 'y': 'l', 'H': 'U', 'K': 'X', 'n': 'a', 'j': 'w', 'U': 'H', 'o': 'b', 'c': 'p', 'Y': 'L', 's': 'f', 'Z': 'M', 't': 'g', 'J': 'W', 'l': 'y', 'v': 'i', 'X': 'K', 'x': 'k', 'f': 's', 'B': 'O', 'h': 'u', 'Q': 'D', 'R': 'E'}\n",
      "25\n",
      "Gur Mra bs Clguba, ol Gvz Crgref\n",
      "\n",
      "Ornhgvshy vf orggre guna htyl.\n",
      "Rkcyvpvg vf orggre guna vzcyvpvg.\n",
      "Fvzcyr vf orggre guna pbzcyrk.\n",
      "Pbzcyrk vf orggre guna pbzcyvpngrq.\n",
      "Syng vf orggre guna arfgrq.\n",
      "Fcnefr vf orggre guna qrafr.\n",
      "Ernqnovyvgl pbhagf.\n",
      "Fcrpvny pnfrf nera'g fcrpvny rabhtu gb oernx gur ehyrf.\n",
      "Nygubhtu cenpgvpnyvgl orngf chevgl.\n",
      "Reebef fubhyq arire cnff fvyragyl.\n",
      "Hayrff rkcyvpvgyl fvyraprq.\n",
      "Va gur snpr bs nzovthvgl, ershfr gur grzcgngvba gb thrff.\n",
      "Gurer fubhyq or bar-- naq cersrenoyl bayl bar --boivbhf jnl gb qb vg.\n",
      "Nygubhtu gung jnl znl abg or boivbhf ng svefg hayrff lbh'er Qhgpu.\n",
      "Abj vf orggre guna arire.\n",
      "Nygubhtu arire vf bsgra orggre guna *evtug* abj.\n",
      "Vs gur vzcyrzragngvba vf uneq gb rkcynva, vg'f n onq vqrn.\n",
      "Vs gur vzcyrzragngvba vf rnfl gb rkcynva, vg znl or n tbbq vqrn.\n",
      "Anzrfcnprf ner bar ubaxvat terng vqrn -- yrg'f qb zber bs gubfr!\n",
      "\n",
      "\n",
      "Tbbq Wbo! abj tb fvta hc sbe gur znvyvat yvfg bire ng vclguba.bet\n"
     ]
    }
   ],
   "source": [
    "import this\n",
    "\n",
    "print(this.c)\n",
    "print(this.d)\n",
    "print(this.i)\n",
    "print(this.s)\n",
    "\n",
    "secret = \"Tbbq Wbo! abj tb fvta hc sbe gur znvyvat yvfg bire ng vclguba.bet\"\n",
    "\n",
    "print('\\n')\n",
    "print(secret)"
   ]
  },
  {
   "cell_type": "code",
   "execution_count": 25,
   "metadata": {
    "collapsed": false
   },
   "outputs": [],
   "source": [
    "this??"
   ]
  },
  {
   "cell_type": "markdown",
   "metadata": {},
   "source": [
    "Configuration file options\n",
    "--------------------------\n",
    "\n",
    "Create the stub default profile (if you haven't already)\n",
    "\n",
    "\n",
    "\n",
    "    $ ipython profile create\n",
    "\n",
    "\n",
    "\n",
    "This will create the stubs for the default profile\n",
    "\n",
    "now you can change these defaults.\n",
    "\n",
    "\n",
    "\n",
    "To find where your profile is stored:\n",
    "\n",
    "\n",
    "\n",
    "    In [1]: import IPython\n",
    "\n",
    "    In [2]: IPython.utils.path.locate_profile()\n",
    "\n",
    "\n",
    "\n",
    "Example:if you want the `_` and `__` methods to show up by default when doing tab-completion \n",
    "\n",
    "\n",
    "\n",
    "    %config IPCompleter.omit__names\n",
    "\n",
    "Another example: you can add your own startup message (or execute your desired commands at startup) like I have:\n",
    "\n",
    "    ~/.ipython/profile_default/startup/README\n",
    "\n",
    "\n",
    "\n",
    "\n",
    "\n",
    "\n",
    "    "
   ]
  },
  {
   "cell_type": "code",
   "execution_count": 17,
   "metadata": {
    "collapsed": false
   },
   "outputs": [
    {
     "data": {
      "text/plain": [
       "'/Users/world7one/.ipython/profile_default'"
      ]
     },
     "execution_count": 17,
     "metadata": {},
     "output_type": "execute_result"
    }
   ],
   "source": [
    "import IPython\n",
    "IPython.utils.path.locate_profile()"
   ]
  },
  {
   "cell_type": "code",
   "execution_count": 18,
   "metadata": {
    "collapsed": false
   },
   "outputs": [
    {
     "data": {
      "text/plain": [
       "'/Users/world7one/.ipython/profile_default/startup/README'"
      ]
     },
     "execution_count": 18,
     "metadata": {},
     "output_type": "execute_result"
    }
   ],
   "source": [
    "IPython.utils.path.locate_profile()+'/startup/README'"
   ]
  },
  {
   "cell_type": "code",
   "execution_count": 19,
   "metadata": {
    "collapsed": false
   },
   "outputs": [],
   "source": [
    "%pycat IPython.utils.path.locate_profile()+'/startup/README'"
   ]
  }
 ],
 "metadata": {
  "kernelspec": {
   "display_name": "Python 3",
   "language": "python",
   "name": "python3"
  },
  "language_info": {
   "codemirror_mode": {
    "name": "ipython",
    "version": 3
   },
   "file_extension": ".py",
   "mimetype": "text/x-python",
   "name": "python",
   "nbconvert_exporter": "python",
   "pygments_lexer": "ipython3",
   "version": "3.4.3"
  }
 },
 "nbformat": 4,
 "nbformat_minor": 0
}
